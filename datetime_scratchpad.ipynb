{
 "cells": [
  {
   "cell_type": "code",
   "execution_count": 1,
   "metadata": {},
   "outputs": [],
   "source": [
    "import datetime\n",
    "from datetime import timedelta\n",
    "from datetime import datetime as dt\n",
    "import itertools\n"
   ]
  },
  {
   "cell_type": "code",
   "execution_count": 2,
   "metadata": {},
   "outputs": [
    {
     "name": "stdout",
     "output_type": "stream",
     "text": [
      "June\n",
      "2017-11-28 23:55:59.342380\n"
     ]
    }
   ],
   "source": [
    " \n",
    "x = dt(2018, 6, 1)\n",
    "print(x.strftime(\"%B\"))\n",
    "\n",
    "#timestamp = datetime.fromtimestamp(1326244364)\n",
    "\n",
    "# datetime(year, month, day, hour, minute, second, microsecond)\n",
    "b = dt(2017, 11, 28, 23, 55, 59, 342380)\n",
    "print(b)"
   ]
  },
  {
   "cell_type": "code",
   "execution_count": 3,
   "metadata": {},
   "outputs": [
    {
     "name": "stdout",
     "output_type": "stream",
     "text": [
      "December\n"
     ]
    }
   ],
   "source": [
    "# Create a Returns a DateTime object corresponding to the date string\n",
    "# Canadian date format YYYY - MM - DD\n",
    "\n",
    "canadianDateFormat = '%Y-%m-%d'\n",
    "newDate = dt.strptime('2022-12-02',canadianDateFormat)\n",
    "\n",
    "print(newDate.strftime(\"%B\"))"
   ]
  },
  {
   "cell_type": "code",
   "execution_count": 8,
   "metadata": {},
   "outputs": [
    {
     "name": "stdout",
     "output_type": "stream",
     "text": [
      "October 21, 2022\n",
      "<class 'str'>\n",
      "<class 'datetime.datetime'>\n"
     ]
    }
   ],
   "source": [
    "dateFormat = '%m-%d-%Y'\n",
    "newDate = dt.strptime('10-21-2022',dateFormat)\n",
    "print (newDate.strftime(\"%B %d, %Y\"))\n",
    "print(type(dateFormat))\n",
    "print(type(newDate))"
   ]
  },
  {
   "cell_type": "code",
   "execution_count": null,
   "metadata": {},
   "outputs": [],
   "source": [
    "# composite \n",
    "\n",
    "class Calender:\n",
    "    dateList = []\n",
    "    canadianDateFormat = '%Y-%m-%d'\n",
    "    usDateFormat = '%m-%d-%Y'\n",
    "\n",
    "    def __init__(self,dates):\n",
    "        self.addCanDates(dates)\n",
    "    \n",
    "        \n",
    "    #parameter: add List of string dates\n",
    "    def addCanDates(self,stringDates):\n",
    "        for strDate in stringDates:\n",
    "            aDate = dt.strptime(strDate,self.canadianDateFormat)\n",
    "            self.dateList.append(aDate)\n",
    "    \n",
    "    #parameter: add List of string dates\n",
    "    def addUsDates(self,stringDates):\n",
    "        for strDate in stringDates:\n",
    "            aDate = dt.strptime(strDate,self.usDateFormat)\n",
    "            self.dateList.append(aDate)\n",
    "    \n",
    "    \n",
    "    #parameter: Date Canada formated String.\n",
    "    def findCanDate(self,canDate):\n",
    "        for aDate in self.dateList:\n",
    "            if(aDate.strftime(self.canadianDateFormat) == canDate):\n",
    "                print(f\"the date is in the calender,{canDate} is good\")\n",
    "                return aDate\n",
    "        \n",
    "        print(\"the date is a big cup of Nope\")  \n",
    "    \n",
    "    \n",
    "    # parameters:  usDate format in string\n",
    "    def findUsDate(self,usDate):\n",
    "        print(\"Think about the assessment, look at this, This is your easter candy, happy Easter\")\n",
    "        for aDate in self.dateList:\n",
    "            if(aDate.strftime(self.usDateFormat) == usDate):\n",
    "                print(f\"the date is in the calender,{usDate} is good\")\n",
    "                return aDate\n",
    "        \n",
    "        print(\"the date is a big cup of Nope\")  \n",
    "    "
   ]
  },
  {
   "cell_type": "code",
   "execution_count": null,
   "metadata": {},
   "outputs": [],
   "source": [
    "tomscalender = Calender(['2022-01-27'])\n",
    "\n",
    "tomscalender.findCanDate('2022-01-27')\n",
    "tomscalender.findCanDate('2022-01-29')\n",
    "\n",
    "\n",
    "\n",
    "datefound = tomscalender.findUsDate('01-27-2022')"
   ]
  },
  {
   "cell_type": "code",
   "execution_count": null,
   "metadata": {},
   "outputs": [],
   "source": [
    "the date is in the calender,2022-01-27 is good\n",
    "the date is a big cup of Nope\n",
    "the date is a big cup of Nope\n",
    "the date is a big cup of Nope\n",
    "Think about the assessment, look at this, This is your easter candy, happy Easter\n",
    "the date is in the calender,01-27-2022 is good\n",
    "# class TodoList:\n",
    "\n",
    "class Task:\n",
    "    taskDate = \"\"\n",
    "    taskName = \"\"\n",
    "    complete = False\n",
    "    canadianDateFormat = '%Y-%m-%d'\n",
    "    usDateFormat = '%m-%d-%Y'\n",
    "    #add unique id\n",
    "    newid = itertools.count().next\n",
    "\n",
    "    def __init__(self, name, date):\n",
    "        self.taskName = name\n",
    "        self.taskDate = dt.strptime(date,self.usDateFormat)\n",
    "        self.id = resource_cl.newid()\n",
    "\n",
    "    def completeTask(self, id):\n",
    "        if(id == self.id):\n",
    "            self.complete = True "
   ]
  },
  {
   "cell_type": "code",
   "execution_count": null,
   "metadata": {},
   "outputs": [],
   "source": []
  }
 ],
 "metadata": {
  "interpreter": {
   "hash": "ed225720166559e7176d3793db16a2fd8d295f725007103b21ac3099d2a89ee8"
  },
  "kernelspec": {
   "display_name": "Python 3.9.7 ('base')",
   "language": "python",
   "name": "python3"
  },
  "language_info": {
   "codemirror_mode": {
    "name": "ipython",
    "version": 3
   },
   "file_extension": ".py",
   "mimetype": "text/x-python",
   "name": "python",
   "nbconvert_exporter": "python",
   "pygments_lexer": "ipython3",
   "version": "3.9.7"
  },
  "orig_nbformat": 4
 },
 "nbformat": 4,
 "nbformat_minor": 2
}
